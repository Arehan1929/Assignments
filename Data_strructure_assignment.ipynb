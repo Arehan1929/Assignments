{
  "nbformat": 4,
  "nbformat_minor": 0,
  "metadata": {
    "colab": {
      "provenance": []
    },
    "kernelspec": {
      "name": "python3",
      "display_name": "Python 3"
    },
    "language_info": {
      "name": "python"
    }
  },
  "cells": [
    {
      "cell_type": "markdown",
      "source": [
        "Q1. What are data structures, and why are they important?\n",
        "Ans--> Data Structure is a specialized way of organising , managing, and storing the data that can be used efficiently.\n",
        "there are two type of data structure:\n",
        "1. linear data structure(like- array,linkedlist,stack,queue)\n",
        "2. Non-linear data structure(like- tree and graph)\n"
      ],
      "metadata": {
        "id": "c29N1srp5tqr"
      }
    },
    {
      "cell_type": "markdown",
      "source": [
        "Q2.Explain the difference between mutable and immutable data types with examples?\n",
        "Ans--> mutable means it can be chage after creation(like- list is mutable data type that allows value assignments)\n",
        "Immutable means it cann't be change after creation(like- tuple is immutable data type that doesn't allow value assignment)"
      ],
      "metadata": {
        "id": "IrmHklGwSMEU"
      }
    },
    {
      "cell_type": "markdown",
      "source": [
        "Q3. What are the main differences between lists and tuples in Python?\n",
        "Ans--> The main difference between list and tuple is\n",
        "1. list is mutable and tuple is immutable.\n",
        "2. list use square brackets [] and tuple use paranthesis().\n",
        "3. list is slower the tuple due to its dynamic nature."
      ],
      "metadata": {
        "id": "JiFtJxI1TYtW"
      }
    },
    {
      "cell_type": "markdown",
      "source": [
        "Q4. Describe how dictionaries store data?\n",
        "Ans--> Dictionary is a build-in data structure in python that store data in the form of key pair value like key:value it define useing curly braces {}"
      ],
      "metadata": {
        "id": "aG83_NkiT-Pp"
      }
    },
    {
      "cell_type": "markdown",
      "source": [
        "Q5. Why might you use a set instead of a list in Python?\n",
        "Ans--> set is unordered collection of unique element and list is ordered collection of different datatype which can contain duplicate elements. when need t work with uniqe element where we can use set instead of list."
      ],
      "metadata": {
        "id": "5_DFNkRc6wLs"
      }
    },
    {
      "cell_type": "markdown",
      "source": [
        "Q6. What is a string in Python, and how is it different from a list?\n",
        "Ans--> string ia an immutable sequence of character and list is mutable sequence of different data type"
      ],
      "metadata": {
        "id": "NrO95CBr8YwZ"
      }
    },
    {
      "cell_type": "markdown",
      "source": [
        "Q7. How do tuples ensure data integrity in Python?\n",
        "Ans-->tuple ensure data integrity by being immutable, resistant to accidental change, safe to hash making them for storing fixed and unchangeble data"
      ],
      "metadata": {
        "id": "hzRja8Zu-kq2"
      }
    },
    {
      "cell_type": "markdown",
      "source": [
        "Q8. What is a hash table, and how does it relate to dictionaries in Python?\n",
        "Ans-->A hash table is a data structure that stores key-value pairs. It uses a process called hashing to compute an index (called a hash code) from the key\n",
        "\n",
        "It allows dictionaries to store and retrieve key-value pairs efficiently using hashing."
      ],
      "metadata": {
        "id": "d9mjYr0MA4_4"
      }
    },
    {
      "cell_type": "markdown",
      "source": [
        "Q9. Can lists contain different data types in Python?\n",
        "Ans--> yes list can store any data type. it is hetrogeneous"
      ],
      "metadata": {
        "id": "hcFBZNz8Ifgh"
      }
    },
    {
      "cell_type": "markdown",
      "source": [
        "Q10. Explain why strings are immutable in Python?\n",
        "Ans--> Strings are immutable in Python to support memory efficiency, hashability, program safety, and performance. Any change to a string results in the creation of a new string object."
      ],
      "metadata": {
        "id": "Op9GSeL6NzPH"
      }
    },
    {
      "cell_type": "markdown",
      "source": [
        "Q11. What advantages do dictionaries offer over lists for certain tasks ?\n",
        "Ans-->Dictionaries offer faster access, better readability, and more flexibility than lists, especially when working with named, structured data where you need to map keys to values."
      ],
      "metadata": {
        "id": "UcWg3atQO1Wk"
      }
    },
    {
      "cell_type": "markdown",
      "source": [
        "Q12.Describe a scenario where using a tuple would be preferable over a list?\n",
        "Ans--> as we know that tuple is immutable that cann't be changed and list is mutable that can be changed tuple would be more preferable where we want to store fixed data and unchangeble data that should remain constant through out the program"
      ],
      "metadata": {
        "id": "Otnb20e5QNqI"
      }
    },
    {
      "cell_type": "markdown",
      "source": [
        "Q13. How do sets handle duplicate values in Python?\n",
        "Ans--> Set is a unordered ,mutable collecton of unique elements. it atomatically filter the unique elements\n"
      ],
      "metadata": {
        "id": "35DsTmjmVCA6"
      }
    },
    {
      "cell_type": "markdown",
      "source": [
        "Q14.  How does the “in” keyword work differently for lists and dictionaries?\n",
        "Ans--> in keyword is a membership operator it is uses to check data is existance in list and in dictonary it is use to check key existance not value"
      ],
      "metadata": {
        "id": "kjTeueMeVnid"
      }
    },
    {
      "cell_type": "markdown",
      "source": [
        "Q15. Can you modify the elements of a tuple? Explain why or why not?\n",
        "Ans--> No we can not modify the elemets in tuple beacuse it is immutable"
      ],
      "metadata": {
        "id": "CeE26iKkXHNE"
      }
    },
    {
      "cell_type": "markdown",
      "source": [
        "Q16.What is a nested dictionary, and give an example of its use case?\n",
        "Ans--> Nasted dictionary means dictionary inside dictionary like value itself would be a dictionary for example\n",
        "d={\"Alice\": {\"class\": 5,\"Grade\": \"A\"}\n"
      ],
      "metadata": {
        "id": "3vtMjFCXXlJ4"
      }
    },
    {
      "cell_type": "markdown",
      "source": [
        "Q17.Describe the time complexity of accessing elements in a dictionary?\n",
        "Ans--> time complexity of accessing elements in dictionary is\n",
        "average time complexity is O(1)\n",
        "Worst time complexity is O(n)"
      ],
      "metadata": {
        "id": "i2iK2w92YS8c"
      }
    },
    {
      "cell_type": "markdown",
      "source": [
        "Q18.  In what situations are lists preferred over dictionaries ?\n",
        "Ans-->While both lists and dictionaries store collections of data, lists are preferred in situations where:\n",
        "1. Ordered of element matters\n",
        "2. data is a simple sequence\n",
        "3. Index based access\n",
        "4. duplicates are allowed"
      ],
      "metadata": {
        "id": "qFrzFHdRY-eU"
      }
    },
    {
      "cell_type": "markdown",
      "source": [
        "Q19. Why are dictionaries considered unordered, and how does that affect data retrieval?\n",
        "Ans--> Dictionaries are considered unordered because they are designed for key-based access, not index-based access. This makes data retrieval fast and flexible, but not dependent on the order of insertion."
      ],
      "metadata": {
        "id": "zoxET3_IZ4J3"
      }
    },
    {
      "cell_type": "markdown",
      "source": [
        "Q20.Explain the difference between a list and a dictionary in terms of data retrieval ?\n",
        "Ans-->\n",
        "1. list is desined index based access and dictionary is desined key based access\n",
        "2. syntex of list is list[0] and syntex of dictionary is dict['key']\n",
        "3. list is slower it follow O(n) and dictionary is faster beacause it follow O(1)."
      ],
      "metadata": {
        "id": "Slp6LjeSbYod"
      }
    },
    {
      "cell_type": "code",
      "execution_count": null,
      "metadata": {
        "colab": {
          "base_uri": "https://localhost:8080/",
          "height": 35
        },
        "id": "EMfi4Yly5pPN",
        "outputId": "dc78052c-bb11-4533-dd63-6c08ce81830e"
      },
      "outputs": [
        {
          "output_type": "execute_result",
          "data": {
            "text/plain": [
              "'Hi, I am Rehan and i am learning Data Analytics from Pwskills'"
            ],
            "application/vnd.google.colaboratory.intrinsic+json": {
              "type": "string"
            }
          },
          "metadata": {},
          "execution_count": 3
        }
      ],
      "source": [
        "#Q1.Write a code to create a string with your name and print it?\n",
        "s=\"Hi, I am Rehan and i am learning Data Analytics from Pwskills\"\n",
        "s"
      ]
    },
    {
      "cell_type": "code",
      "source": [
        "#Q2.Write a code to find the length of the string \"Hello World\"?\n",
        "s=\"Hello World\"\n",
        "len(s)"
      ],
      "metadata": {
        "colab": {
          "base_uri": "https://localhost:8080/"
        },
        "id": "Sf6rxha85sAq",
        "outputId": "a753f9fc-0e56-44d4-fdda-911a3ccc9ce0"
      },
      "execution_count": null,
      "outputs": [
        {
          "output_type": "execute_result",
          "data": {
            "text/plain": [
              "11"
            ]
          },
          "metadata": {},
          "execution_count": 4
        }
      ]
    },
    {
      "cell_type": "code",
      "source": [
        "#Q3.Write a code to slice the first 3 characters from the string \"Python Programming\"?\n",
        "s=\"Python Programming\"\n",
        "s[:3]"
      ],
      "metadata": {
        "colab": {
          "base_uri": "https://localhost:8080/",
          "height": 35
        },
        "id": "2QVP04nK5sDc",
        "outputId": "7ccad12f-436e-413d-9b4a-7b2de42abed9"
      },
      "execution_count": null,
      "outputs": [
        {
          "output_type": "execute_result",
          "data": {
            "text/plain": [
              "'Pyt'"
            ],
            "application/vnd.google.colaboratory.intrinsic+json": {
              "type": "string"
            }
          },
          "metadata": {},
          "execution_count": 5
        }
      ]
    },
    {
      "cell_type": "code",
      "source": [
        "#Q4. Write a code to convert the string \"hello\" to uppercase?\n",
        "s=\"hello\"\n",
        "s.upper()"
      ],
      "metadata": {
        "colab": {
          "base_uri": "https://localhost:8080/",
          "height": 35
        },
        "id": "QKvo9Uhn5sG8",
        "outputId": "a4daae4c-d7ff-4927-f8c1-08b5e9ce9466"
      },
      "execution_count": null,
      "outputs": [
        {
          "output_type": "execute_result",
          "data": {
            "text/plain": [
              "'HELLO'"
            ],
            "application/vnd.google.colaboratory.intrinsic+json": {
              "type": "string"
            }
          },
          "metadata": {},
          "execution_count": 6
        }
      ]
    },
    {
      "cell_type": "code",
      "source": [
        "#Q5. Write a code to replace the word \"apple\" with \"orange\" in the string \"I like apple\"?\n",
        "s=\"I like apple\"\n",
        "s.replace(\"apple\",\"Orange\")"
      ],
      "metadata": {
        "colab": {
          "base_uri": "https://localhost:8080/",
          "height": 35
        },
        "id": "3_DvDYH67SJX",
        "outputId": "8a7423e4-9f3c-45ad-e4b4-7fd0d6f49ec6"
      },
      "execution_count": null,
      "outputs": [
        {
          "output_type": "execute_result",
          "data": {
            "text/plain": [
              "'I like Orange'"
            ],
            "application/vnd.google.colaboratory.intrinsic+json": {
              "type": "string"
            }
          },
          "metadata": {},
          "execution_count": 7
        }
      ]
    },
    {
      "cell_type": "code",
      "source": [
        "#Q6.Write a code to create a list with numbers 1 to 5 and print it?\n",
        "l=[1,2,3,4,5]\n",
        "l"
      ],
      "metadata": {
        "colab": {
          "base_uri": "https://localhost:8080/"
        },
        "id": "aZYi2PK17SzX",
        "outputId": "c6e6df5f-3d91-4db8-c98f-68f885f7ca2c"
      },
      "execution_count": null,
      "outputs": [
        {
          "output_type": "execute_result",
          "data": {
            "text/plain": [
              "[1, 2, 3, 4, 5]"
            ]
          },
          "metadata": {},
          "execution_count": 8
        }
      ]
    },
    {
      "cell_type": "code",
      "source": [
        "#Q7.Write a code to append the number 10 to the list [1, 2, 3, 4]?\n",
        "l=[1,2,3,4]\n",
        "l.append(10)\n",
        "l"
      ],
      "metadata": {
        "colab": {
          "base_uri": "https://localhost:8080/"
        },
        "id": "T1MNUuX67S2F",
        "outputId": "0b392ecc-85df-4093-aeaa-8180402fcb2e"
      },
      "execution_count": null,
      "outputs": [
        {
          "output_type": "execute_result",
          "data": {
            "text/plain": [
              "[1, 2, 3, 4, 10]"
            ]
          },
          "metadata": {},
          "execution_count": 9
        }
      ]
    },
    {
      "cell_type": "code",
      "source": [
        "#Q8.Write a code to remove the number 3 from the list [1, 2, 3, 4, 5]?\n",
        "l=[1,2,3,4,5]\n",
        "l.remove(3)\n",
        "l"
      ],
      "metadata": {
        "colab": {
          "base_uri": "https://localhost:8080/"
        },
        "id": "eJ9D4GLh7S4x",
        "outputId": "441ebb35-7d41-43d1-8995-fc2d3a05ef66"
      },
      "execution_count": null,
      "outputs": [
        {
          "output_type": "execute_result",
          "data": {
            "text/plain": [
              "[1, 2, 4, 5]"
            ]
          },
          "metadata": {},
          "execution_count": 10
        }
      ]
    },
    {
      "cell_type": "code",
      "source": [
        "#Q9. Write a code to access the second element in the list ['a', 'b', 'c', 'd']\n",
        "l=['a','b','c','d']\n",
        "l[1]"
      ],
      "metadata": {
        "colab": {
          "base_uri": "https://localhost:8080/",
          "height": 35
        },
        "id": "OvnmwYs37S7h",
        "outputId": "47cee9fe-01d3-48c8-978a-9b459de44904"
      },
      "execution_count": null,
      "outputs": [
        {
          "output_type": "execute_result",
          "data": {
            "text/plain": [
              "'b'"
            ],
            "application/vnd.google.colaboratory.intrinsic+json": {
              "type": "string"
            }
          },
          "metadata": {},
          "execution_count": 12
        }
      ]
    },
    {
      "cell_type": "code",
      "source": [
        "#Q10. Write a code to reverse the list [10, 20, 30, 40, 50]\n",
        "l = [10, 20, 30, 40, 50]\n",
        "l.reverse()\n",
        "l"
      ],
      "metadata": {
        "colab": {
          "base_uri": "https://localhost:8080/"
        },
        "id": "JfG7MqKa7S-c",
        "outputId": "8c2b676d-51af-4f90-fecd-ae3d22d72b2d"
      },
      "execution_count": null,
      "outputs": [
        {
          "output_type": "execute_result",
          "data": {
            "text/plain": [
              "[50, 40, 30, 20, 10]"
            ]
          },
          "metadata": {},
          "execution_count": 19
        }
      ]
    },
    {
      "cell_type": "code",
      "source": [
        "#Q11. Write a code to create a tuple with the elements 100, 200, 300 and print it?\n",
        "t=(100,200,300)\n",
        "print(type(t))\n",
        "t"
      ],
      "metadata": {
        "colab": {
          "base_uri": "https://localhost:8080/"
        },
        "id": "UYzaj5FO7TBN",
        "outputId": "59acbd81-8d5b-401b-e6a3-f01306353deb"
      },
      "execution_count": null,
      "outputs": [
        {
          "output_type": "stream",
          "name": "stdout",
          "text": [
            "<class 'tuple'>\n"
          ]
        },
        {
          "output_type": "execute_result",
          "data": {
            "text/plain": [
              "(100, 200, 300)"
            ]
          },
          "metadata": {},
          "execution_count": 24
        }
      ]
    },
    {
      "cell_type": "code",
      "source": [
        "#12. Write a code to access the second-to-last element of the tuple ('red', 'green', 'blue', 'yellow')?\n",
        "t=('red', 'green', 'blue', 'yellow')\n",
        "t[-2]"
      ],
      "metadata": {
        "colab": {
          "base_uri": "https://localhost:8080/",
          "height": 35
        },
        "id": "RHPWeJ087TEC",
        "outputId": "842f1ef8-3430-4334-a1fb-56d16444e454"
      },
      "execution_count": null,
      "outputs": [
        {
          "output_type": "execute_result",
          "data": {
            "text/plain": [
              "'blue'"
            ],
            "application/vnd.google.colaboratory.intrinsic+json": {
              "type": "string"
            }
          },
          "metadata": {},
          "execution_count": 25
        }
      ]
    },
    {
      "cell_type": "code",
      "source": [
        "#Q13. Write a code to find the minimum number in the tuple (10, 20, 5, 15).\n",
        "t=(10, 20, 5, 15)\n",
        "min(t)"
      ],
      "metadata": {
        "colab": {
          "base_uri": "https://localhost:8080/"
        },
        "id": "b3kJLP_v7THe",
        "outputId": "57aad403-892a-4e8c-e032-6c74d1cc7291"
      },
      "execution_count": null,
      "outputs": [
        {
          "output_type": "execute_result",
          "data": {
            "text/plain": [
              "5"
            ]
          },
          "metadata": {},
          "execution_count": 26
        }
      ]
    },
    {
      "cell_type": "code",
      "source": [
        "# Write a code to find the index of the element \"cat\" in the tuple ('dog', 'cat', 'rabbit').\n",
        "t = ('dog', 'cat', 'rabbit')\n",
        "t.index(\"cat\")"
      ],
      "metadata": {
        "colab": {
          "base_uri": "https://localhost:8080/"
        },
        "id": "h_UZNT-SCGN8",
        "outputId": "0fe802ff-3045-4083-8854-04f3c0b50e95"
      },
      "execution_count": null,
      "outputs": [
        {
          "output_type": "execute_result",
          "data": {
            "text/plain": [
              "1"
            ]
          },
          "metadata": {},
          "execution_count": 27
        }
      ]
    },
    {
      "cell_type": "code",
      "source": [
        "# Write a code to create a tuple containing three different fruits and check if \"kiwi\" is in it.\n",
        "t=(\"apple\",\"banana\",\"kiwi\",\"mango\")\n",
        "\"kiwi\" in t"
      ],
      "metadata": {
        "colab": {
          "base_uri": "https://localhost:8080/"
        },
        "id": "kg794giHCGQg",
        "outputId": "0b37da50-26c4-4725-86d8-bfacbdcdd8e8"
      },
      "execution_count": null,
      "outputs": [
        {
          "output_type": "execute_result",
          "data": {
            "text/plain": [
              "True"
            ]
          },
          "metadata": {},
          "execution_count": 28
        }
      ]
    },
    {
      "cell_type": "code",
      "source": [
        "#Q16. Write a code to create a set with the elements 'a', 'b', 'c' and print it?\n",
        "s={'a','b','c'}\n",
        "print(type(s))\n",
        "s"
      ],
      "metadata": {
        "colab": {
          "base_uri": "https://localhost:8080/"
        },
        "id": "KFJQpXQ0CGTT",
        "outputId": "57ab494c-d840-48cd-a3c5-2b523744edf8"
      },
      "execution_count": null,
      "outputs": [
        {
          "output_type": "stream",
          "name": "stdout",
          "text": [
            "<class 'set'>\n"
          ]
        },
        {
          "output_type": "execute_result",
          "data": {
            "text/plain": [
              "{'a', 'b', 'c'}"
            ]
          },
          "metadata": {},
          "execution_count": 29
        }
      ]
    },
    {
      "cell_type": "code",
      "source": [
        "#Q17 Write a code to clear all elements from the set {1, 2, 3, 4, 5}.\n",
        "s={1, 2, 3, 4, 5}\n",
        "s.clear()\n",
        "s"
      ],
      "metadata": {
        "colab": {
          "base_uri": "https://localhost:8080/"
        },
        "id": "NSviBZakCGVr",
        "outputId": "a385b01b-2bf5-440d-951a-0d8d3eb15ca5"
      },
      "execution_count": null,
      "outputs": [
        {
          "output_type": "execute_result",
          "data": {
            "text/plain": [
              "set()"
            ]
          },
          "metadata": {},
          "execution_count": 30
        }
      ]
    },
    {
      "cell_type": "code",
      "source": [
        "#Q18 Write a code to remove the element 4 from the set {1, 2, 3, 4}.\n",
        "s={1,2,3,4}\n",
        "s.remove(4)\n",
        "s"
      ],
      "metadata": {
        "colab": {
          "base_uri": "https://localhost:8080/"
        },
        "id": "nIqm2fkuCGYW",
        "outputId": "816e9d3f-32f1-47c9-e7f2-ca973817d087"
      },
      "execution_count": null,
      "outputs": [
        {
          "output_type": "execute_result",
          "data": {
            "text/plain": [
              "{1, 2, 3}"
            ]
          },
          "metadata": {},
          "execution_count": 31
        }
      ]
    },
    {
      "cell_type": "code",
      "source": [
        "#Q19.  Write a code to find the union of two sets {1, 2, 3} and {3, 4, 5}.\n",
        "s1={1,2,3}\n",
        "s2={3,4,5}\n",
        "s1|s2"
      ],
      "metadata": {
        "colab": {
          "base_uri": "https://localhost:8080/"
        },
        "id": "-1KKaMcgCGbO",
        "outputId": "d3b8e438-bcc2-417c-815a-f85ef4b3051e"
      },
      "execution_count": null,
      "outputs": [
        {
          "output_type": "execute_result",
          "data": {
            "text/plain": [
              "{1, 2, 3, 4, 5}"
            ]
          },
          "metadata": {},
          "execution_count": 34
        }
      ]
    },
    {
      "cell_type": "code",
      "source": [
        "#Q20 Write a code to find the intersection of two sets {1, 2, 3} and {2, 3, 4}?\n",
        "s1={1,2,3}\n",
        "s2={2,3,4}\n",
        "s1&s2"
      ],
      "metadata": {
        "colab": {
          "base_uri": "https://localhost:8080/"
        },
        "id": "qdTe_ARMCGd3",
        "outputId": "da436ef3-9135-4995-9a8c-ed02335a51e6"
      },
      "execution_count": null,
      "outputs": [
        {
          "output_type": "execute_result",
          "data": {
            "text/plain": [
              "{2, 3}"
            ]
          },
          "metadata": {},
          "execution_count": 35
        }
      ]
    },
    {
      "cell_type": "code",
      "source": [
        "#Q21. Write a code to create a dictionary with the keys \"name\", \"age\", and \"city\", and print it\n",
        "d={\"name\":\"Rehan\", \"age\":25, \"city\":\"delhi\"}\n",
        "d"
      ],
      "metadata": {
        "colab": {
          "base_uri": "https://localhost:8080/"
        },
        "id": "xRfhd2pkCGgr",
        "outputId": "a11d0cf9-5a03-45d1-8b2d-8cd2ae3da2e5"
      },
      "execution_count": null,
      "outputs": [
        {
          "output_type": "execute_result",
          "data": {
            "text/plain": [
              "{'name': 'Rehan', 'age': 25, 'city': 'delhi'}"
            ]
          },
          "metadata": {},
          "execution_count": 36
        }
      ]
    },
    {
      "cell_type": "code",
      "source": [
        "#Q22. Write a code to add a new key-value pair \"country\": \"USA\" to the dictionary {'name': 'John', 'age': 25}.\n",
        "d={'name': 'John', 'age': 25}\n",
        "d[\"country\"] = \"USA\"\n",
        "d"
      ],
      "metadata": {
        "colab": {
          "base_uri": "https://localhost:8080/"
        },
        "id": "4N7EnU4yCGjd",
        "outputId": "dbfb8974-9639-426e-c94f-c274dad901d0"
      },
      "execution_count": null,
      "outputs": [
        {
          "output_type": "execute_result",
          "data": {
            "text/plain": [
              "{'name': 'John', 'age': 25, 'country': 'USA'}"
            ]
          },
          "metadata": {},
          "execution_count": 37
        }
      ]
    },
    {
      "cell_type": "code",
      "source": [
        "#Q23 Write a code to access the value associated with the key \"name\" in the dictionary {'name': 'Alice', 'age': 30}\n",
        "d = {'name': 'Alice', 'age': 30}\n",
        "d[\"name\"]"
      ],
      "metadata": {
        "colab": {
          "base_uri": "https://localhost:8080/",
          "height": 35
        },
        "id": "xmEpdbRACGm_",
        "outputId": "fc95ecd0-3102-41bd-a902-53222a9a688c"
      },
      "execution_count": null,
      "outputs": [
        {
          "output_type": "execute_result",
          "data": {
            "text/plain": [
              "'Alice'"
            ],
            "application/vnd.google.colaboratory.intrinsic+json": {
              "type": "string"
            }
          },
          "metadata": {},
          "execution_count": 38
        }
      ]
    },
    {
      "cell_type": "code",
      "source": [
        "#Q24 Write a code to remove the key \"age\" from the dictionary {'name': 'Bob', 'age': 22, 'city': 'New York'}.\n",
        "d = {'name': 'Bob', 'age': 22, 'city': 'New York'}\n",
        "d.pop(\"age\")\n",
        "d"
      ],
      "metadata": {
        "colab": {
          "base_uri": "https://localhost:8080/"
        },
        "id": "46UVxA8vHNY7",
        "outputId": "b8b1879b-6c89-4dca-de9c-4fa4e6d053b3"
      },
      "execution_count": null,
      "outputs": [
        {
          "output_type": "execute_result",
          "data": {
            "text/plain": [
              "{'name': 'Bob', 'city': 'New York'}"
            ]
          },
          "metadata": {},
          "execution_count": 40
        }
      ]
    },
    {
      "cell_type": "code",
      "source": [
        "#Q25. Write a code to check if the key \"city\" exists in the dictionary {'name': 'Alice', 'city': 'Paris'}\n",
        "d = {'name': 'Alice', 'city': 'Paris'}\n",
        "if \"city\" in d:\n",
        "    print(\"yes\")"
      ],
      "metadata": {
        "colab": {
          "base_uri": "https://localhost:8080/"
        },
        "id": "Ht1U80pzHNcc",
        "outputId": "dde9b232-491f-449e-8a24-a4490747fffa"
      },
      "execution_count": null,
      "outputs": [
        {
          "output_type": "stream",
          "name": "stdout",
          "text": [
            "yes\n"
          ]
        }
      ]
    },
    {
      "cell_type": "code",
      "source": [
        "# Write a code to create a list of 5 random numbers between 1 and 100, sort it in ascending order, and print the result.(replaced)\n",
        "l=[46,94,72,84,38]\n",
        "l.sort(reverse=False)\n",
        "l"
      ],
      "metadata": {
        "colab": {
          "base_uri": "https://localhost:8080/"
        },
        "id": "SA1jELA0HOiT",
        "outputId": "58c32b6a-3b8f-425a-b6af-4e7481e30618"
      },
      "execution_count": null,
      "outputs": [
        {
          "output_type": "execute_result",
          "data": {
            "text/plain": [
              "[38, 46, 72, 84, 94]"
            ]
          },
          "metadata": {},
          "execution_count": 53
        }
      ]
    },
    {
      "cell_type": "code",
      "source": [
        "#Q28  Write a code to create a list with strings and print the element at the third index.\n",
        "l=[\"apple\",\"banana\",\"mango\",\"kiwi\",\"lichi\"]\n",
        "l[2]"
      ],
      "metadata": {
        "colab": {
          "base_uri": "https://localhost:8080/",
          "height": 35
        },
        "id": "puCAUnzoHOnr",
        "outputId": "23063855-0b23-4ec1-a568-fb4fc7a0d004"
      },
      "execution_count": null,
      "outputs": [
        {
          "output_type": "execute_result",
          "data": {
            "text/plain": [
              "'mango'"
            ],
            "application/vnd.google.colaboratory.intrinsic+json": {
              "type": "string"
            }
          },
          "metadata": {},
          "execution_count": 54
        }
      ]
    },
    {
      "cell_type": "code",
      "source": [
        "#Q29 Write a code to combine two dictionaries into one and print the result.\n",
        "d1 = {\"name\":\"Rehan\",\"age\": 25}\n",
        "d2 = {\"city\": \"delhi\", \"Office\": \"Noida\"}\n",
        "d1.update(d2)\n",
        "d1"
      ],
      "metadata": {
        "colab": {
          "base_uri": "https://localhost:8080/"
        },
        "id": "cghLHEpxHOvu",
        "outputId": "dd655ca6-cc0f-471d-f48b-4fb9330ba46e"
      },
      "execution_count": null,
      "outputs": [
        {
          "output_type": "execute_result",
          "data": {
            "text/plain": [
              "{'name': 'Rehan', 'age': 25, 'city': 'delhi', 'Office': 'Noida'}"
            ]
          },
          "metadata": {},
          "execution_count": 57
        }
      ]
    },
    {
      "cell_type": "code",
      "source": [
        "#Q30 Write a code to convert a list of strings into a set?\n",
        "l=[\"apple\",\"banana\",\"mango\",\"kiwi\",\"lichi\"]\n",
        "set(l)"
      ],
      "metadata": {
        "colab": {
          "base_uri": "https://localhost:8080/"
        },
        "id": "URVfJNNGHO5g",
        "outputId": "1e14032a-9d9f-40b6-d3a3-73c346551d8f"
      },
      "execution_count": null,
      "outputs": [
        {
          "output_type": "execute_result",
          "data": {
            "text/plain": [
              "{'apple', 'banana', 'kiwi', 'lichi', 'mango'}"
            ]
          },
          "metadata": {},
          "execution_count": 58
        }
      ]
    },
    {
      "cell_type": "code",
      "source": [],
      "metadata": {
        "id": "sFguOr98HPDg"
      },
      "execution_count": null,
      "outputs": []
    }
  ]
}