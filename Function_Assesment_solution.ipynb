{
  "nbformat": 4,
  "nbformat_minor": 0,
  "metadata": {
    "colab": {
      "provenance": []
    },
    "kernelspec": {
      "name": "python3",
      "display_name": "Python 3"
    },
    "language_info": {
      "name": "python"
    }
  },
  "cells": [
    {
      "cell_type": "markdown",
      "source": [
        "Q1: What is the difference between a function and a method in Python?\n",
        "Ans--> function is a block of code that perform a specific task and it can be called directly using its name.\n",
        "\n",
        "Method is a function that is associated with class and object. it use self as first parameter"
      ],
      "metadata": {
        "id": "eTetz0Pf423z"
      }
    },
    {
      "cell_type": "markdown",
      "source": [
        "Q2: Explain the concept of function arguments and parameters in Python ?\n",
        "Ans--> Argumets are the actual value passed to a function when it is called.\n",
        "parameter are the variable name that is define while defining the fucntion"
      ],
      "metadata": {
        "id": "UBbEOrLk6Ezk"
      }
    },
    {
      "cell_type": "markdown",
      "source": [
        "Q3: What are the different ways to define and call a function in Python ?\n",
        "1. Normal function(using def keywords)\n",
        "def greet():\n",
        "    print('Good Morning sir!')\n",
        "greet() #calling the function\n",
        "\n",
        "2. lambda function\n",
        "add=lambda x,y:x+y #defining the function\n",
        "print(add(10,20)) #calling the function\n"
      ],
      "metadata": {
        "id": "dqSkZKwz6Fc2"
      }
    },
    {
      "cell_type": "markdown",
      "source": [
        "Q4: What is the purpose of the `return` statement in a Python function ?\n",
        "Ans--> The return statement in a Python function is used to send a value back to the caller of the function. It ends the execution of the function and returns the specified result."
      ],
      "metadata": {
        "id": "2dJuvBRr6F9B"
      }
    },
    {
      "cell_type": "markdown",
      "source": [
        "Q5: What are iterators in Python and how do they differ from iterables ?\n",
        "Ans--> An iterator is an object that represents a stream of data and returns one element at a time using the next() function. It remembers its state during iteration."
      ],
      "metadata": {
        "id": "waC55yjY6GTU"
      }
    },
    {
      "cell_type": "markdown",
      "source": [
        "Q6:  Explain the concept of generators in Python and how they are defined ?\n",
        "Ans--> Generator is special function that define like a normal function and instead of return it use yeild value one at a time"
      ],
      "metadata": {
        "id": "sru38rlG6G9J"
      }
    },
    {
      "cell_type": "markdown",
      "source": [
        "Q7: What are the advantages of using generators over regular functions ?\n",
        "Ans-->\n",
        "Memory Efficient- They yield one item at a time, so they don’t store the entire sequence in memory.\n",
        "Faster Start Time- Start producing results without computing the whole sequence.\n",
        "Lazy Evaluation- Values are generated only when needed.\n",
        "Infinite Sequences- Can represent infinite data streams without memory issues.\n",
        "Cleaner Code- yield simplifies code compared to managing states manually."
      ],
      "metadata": {
        "id": "TnP_lnDM_To-"
      }
    },
    {
      "cell_type": "markdown",
      "source": [
        "Q8: What is a lambda function in Python and when is it typically used ?\n",
        "Ans--> Lambda is a anonymous function in python or we can say oneliner functon which is defined using lambda keyword. it can take any number of arguments but give only one expression.\n",
        "\n",
        "add=lambda x,y:x+y\n",
        "print(add(10,20))\n",
        "\n",
        "It is typically used for short, simple operations — especially when passing a function as an argument to higher-order functions like map(), filter(), or sorted()."
      ],
      "metadata": {
        "id": "4xrmThFE_UDw"
      }
    },
    {
      "cell_type": "markdown",
      "source": [
        "Q9: Explain the purpose and usage of the `map()` function in Python ?\n",
        "Ans--> The map() function in python is use to apply a function for each item of an iterable(list,tuple,range) and return a new iterable(map object) with the result."
      ],
      "metadata": {
        "id": "yTfQZd9gBz_O"
      }
    },
    {
      "cell_type": "markdown",
      "source": [
        "Q10: What is the difference between `map()`, `reduce()`, and `filter()` functions in Python ?\n",
        "Ans--> map() applies a function to each item of an iterable and returns a new iterable with the transformed results.\n",
        "filter() applies a function that returns True or False and keeps only the items where the function returns True.\n",
        "reduce() repeatedly applies a function to the accumulated result and the next item, reducing the iterable to a single value."
      ],
      "metadata": {
        "id": "mvo43UmQCv-G"
      }
    },
    {
      "cell_type": "markdown",
      "source": [],
      "metadata": {
        "id": "8hzu0WSJD231"
      }
    },
    {
      "cell_type": "code",
      "source": [
        "#Q1: # Write a Python function that takes a list of numbers as input and returns the sum of all even numbers in the list ?\n",
        "def sum_even_no(l):\n",
        "    total=0\n",
        "    for no in l:\n",
        "        if no%2==0:\n",
        "            total+=no\n",
        "\n",
        "    return total\n",
        "\n",
        "l=[1,2,3,4,5,6,7,8]\n",
        "print(sum_even_no(l))"
      ],
      "metadata": {
        "colab": {
          "base_uri": "https://localhost:8080/"
        },
        "id": "nQPdo5HbD048",
        "outputId": "d88dbb8e-afc8-46d1-8be2-285ae1644bf2"
      },
      "execution_count": null,
      "outputs": [
        {
          "output_type": "stream",
          "name": "stdout",
          "text": [
            "20\n"
          ]
        }
      ]
    },
    {
      "cell_type": "code",
      "source": [
        "#Q2: Create a Python function that accepts a string and returns the reverse of that string ?\n",
        "def reverse_string(s):\n",
        "    return s[::-1]\n",
        "\n",
        "print(reverse_string(\"Hello world\"))"
      ],
      "metadata": {
        "id": "LhRi3QKqT4qM"
      },
      "execution_count": null,
      "outputs": []
    },
    {
      "cell_type": "code",
      "source": [
        "#Q3: Implement a Python function that takes a list of integers and returns a new list containing the squares of each number ?\n",
        "def sq_no(l):\n",
        "    return [i*i for i in l]\n",
        "\n",
        "print(sq_no([1,2,3,4,5,6,7,8]))"
      ],
      "metadata": {
        "colab": {
          "base_uri": "https://localhost:8080/"
        },
        "id": "TTrlt_ftUl03",
        "outputId": "2a2894a1-9d9f-4db6-af03-6aebc77f434c"
      },
      "execution_count": null,
      "outputs": [
        {
          "output_type": "stream",
          "name": "stdout",
          "text": [
            "[1, 4, 9, 16, 25, 36, 49, 64]\n"
          ]
        }
      ]
    },
    {
      "cell_type": "code",
      "source": [
        "#Q4:  Write a Python function that checks if a given number is prime or not from 1 to 200.\n",
        "def prime_number(n):\n",
        "    if n<=1:\n",
        "        return False\n",
        "    for i in range(2,int(n**0.5)+1):\n",
        "        if n%i==0:\n",
        "            return False\n",
        "    return True\n",
        "print(prime_number(14))"
      ],
      "metadata": {
        "id": "yZbATbd1UlxQ"
      },
      "execution_count": null,
      "outputs": []
    },
    {
      "cell_type": "code",
      "source": [
        "#Q5: Create an iterator class in Python that generates the Fibonacci sequence up to a specified number of terms.\n",
        "def fabbonacci_series(n):\n",
        "    if n==0 or n==1:\n",
        "        return n\n",
        "    return fabbonacci_series(n-1)+ fabbonacci_series(n-2)\n",
        "\n",
        "num=10\n",
        "for i in range(num):\n",
        "    print(fabbonacci_series(i))"
      ],
      "metadata": {
        "id": "9ax-C4uoUluy"
      },
      "execution_count": null,
      "outputs": []
    },
    {
      "cell_type": "code",
      "source": [
        "#Q6:  Write a generator function in Python that yields the powers of 2 up to a given exponent.\n",
        "def two_power_exponent(n):\n",
        "    for num in range(n):\n",
        "        yield 2**num\n",
        "\n",
        "num=10\n",
        "print(list(two_power_exponent(num)))"
      ],
      "metadata": {
        "id": "IIvz3DnRUleA"
      },
      "execution_count": null,
      "outputs": []
    },
    {
      "cell_type": "code",
      "source": [
        "#Q7: Implement a generator function that reads a file line by line and yields each line as a string.\n",
        "def file_reading(path):\n",
        "    with open(path,'r') as file:\n",
        "        for line in file:\n",
        "            yield line.strip()\n",
        "\n",
        "path='file.txt'\n",
        "list(file_reading(path))"
      ],
      "metadata": {
        "id": "Rab7NKJqUlal"
      },
      "execution_count": null,
      "outputs": []
    },
    {
      "cell_type": "code",
      "source": [
        "#Q8: Use a lambda function in Python to sort a list of tuples based on the second element of each tuple.\n",
        "data = [(1, 5), (3, 1), (2, 4), (4, 2)]\n",
        "sorted_data = sorted(data, key = lambda x:x[1])\n",
        "print(sorted_data)"
      ],
      "metadata": {
        "colab": {
          "base_uri": "https://localhost:8080/"
        },
        "id": "uSgPV_9-UlXw",
        "outputId": "5ff7d435-f0f1-4770-b361-abfeadc61353"
      },
      "execution_count": null,
      "outputs": [
        {
          "output_type": "stream",
          "name": "stdout",
          "text": [
            "[(3, 1), (4, 2), (2, 4), (1, 5)]\n"
          ]
        }
      ]
    },
    {
      "cell_type": "code",
      "source": [
        "#Q9: Write a Python program that uses `map()` to convert a list of temperatures from Celsius to Fahrenheit.\n",
        "l=[30,31,32,33,34,35,36,37,38]\n",
        "res=list(map(lambda x:(x*9/5)+32,l))\n",
        "print(res)"
      ],
      "metadata": {
        "colab": {
          "base_uri": "https://localhost:8080/"
        },
        "id": "XBZLxcn_UlU8",
        "outputId": "86d5979f-c3dd-49fb-8761-178689524795"
      },
      "execution_count": null,
      "outputs": [
        {
          "output_type": "stream",
          "name": "stdout",
          "text": [
            "[86.0, 87.8, 89.6, 91.4, 93.2, 95.0, 96.8, 98.6, 100.4]\n"
          ]
        }
      ]
    },
    {
      "cell_type": "code",
      "source": [
        "#Q10: Create a Python program that uses `filter()` to remove all the vowels from a given string.\n",
        "s=\"Hello World\"\n",
        "s=s.replace(\" \",\"\").lower()\n",
        "res=list(filter(lambda s:s not in 'aeiou',s))\n",
        "print(\"\".join(res))"
      ],
      "metadata": {
        "id": "DaKwF2OPiI_N"
      },
      "execution_count": null,
      "outputs": []
    },
    {
      "cell_type": "code",
      "source": [
        "#Q11: Write a Python program, which returns a list with 2-tuples. Each tuple consists of the order number and the\n",
        "# product of the price per item and the quantity. The product should be increased by 10,- € if the value of the\n",
        "# order is smaller than 100,00 €.\n",
        "orders = [\n",
        "    [34587, \"Learning Python\", 4, 40.95],\n",
        "    [98762, \"Programming in C\", 5, 35.50],\n",
        "    [77226, \"Data Science Handbook\", 1, 120.00],\n",
        "    [88112, \"Python for Data Analysis\", 2, 45.00]\n",
        "]\n",
        "result = list(map(lambda x: (x[0], x[2]*x[3] if x[2]*x[3] >= 100 else x[2]*x[3] + 10), orders))\n",
        "\n",
        "print(result)\n"
      ],
      "metadata": {
        "id": "d-XBiXKDjEoJ"
      },
      "execution_count": null,
      "outputs": []
    }
  ]
}