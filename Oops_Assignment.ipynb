{
  "nbformat": 4,
  "nbformat_minor": 0,
  "metadata": {
    "colab": {
      "provenance": []
    },
    "kernelspec": {
      "name": "python3",
      "display_name": "Python 3"
    },
    "language_info": {
      "name": "python"
    }
  },
  "cells": [
    {
      "cell_type": "markdown",
      "source": [
        "Q1. What is Object-Oriented Programming (OOP) ?\n",
        "\n",
        "Ans--> Object oriented programming(Oops) is a programming paradigm that revolves around the concept of Object which can contain data(attributes)and code(method)\n",
        "\n",
        "Q2. What is a class in OOP?\n",
        "\n",
        "Ans--> class is a blueprint/ templete of the object\n",
        "\n",
        "Q3. what is an object in oop?\n",
        "\n",
        "Ans--> Object is an instance of class.\n",
        "\n",
        "Q4. What is the difference between abstraction and encapsulation?\n",
        "\n",
        "Ans--> Abstraction is one of the important pillar of oops. it hides unnessecery\n",
        "data from the user\n",
        "\n",
        "Encapsulation is a main pillar of oops it binds data and code together\n",
        "\n",
        "Q5. What are dunder methods in Python?\n",
        "\n",
        "Ans--> Dunder method are (short of Double Underscore) special pre-defined method in python that start and end with double underscore.\n",
        "\n",
        "Q6.Explain the concept of inheritance in OOP?\n",
        "\n",
        "Ans--> Inheritance is a key concept of oops that allow one class to inherit property and behaviour from their parent class.\n",
        "\n",
        "Q7. What is polymorphism in OOP ?\n",
        "\n",
        "Ans--> Polymorphism means \"Many form\" in object oriented programming polymorhism allow object of different class is trated as object of common superclass.\n",
        "There are mainly two type:\n",
        "compile time polymorphism(Method overloading)\n",
        "Run time polymorphism(Method overriding)\n",
        "\n",
        "Q8. How is encapsulation achieved in Python ?\n",
        "\n",
        "Ans-->Encapsulation is the process of binding data (attributes) and methods (functions) that operate on that data into a single unit — a class. It also restricts direct access to some of the object's components, which is useful for protecting data and maintaining control over how it's accessed or modified.\n",
        "\n",
        "Q9. What is a constructor in Python ?\n",
        "\n",
        "Ans-->A constructor in Python is a special method used to initialize the state of an object when it is created.\n",
        "In Python, the constructor method is named __init__(self).\n",
        "\n",
        "Q10. What are class and static methods in Python?\n",
        "\n",
        "Ans-->\n",
        "1. Class Method\n",
        "A class method is a method that is bound to the class and not the instance of the class. It can access and modify class-level data.\n",
        "It uses the @classmethod decorator and takes cls as its first parameter.\n",
        "\n",
        "2. Static Method\n",
        "A static method is a method that does not take self or cls as the first argument. It is not bound to class or instance and behaves like a regular function, but lives inside the class's namespace.\n",
        "It uses the @staticmethod decorator.\n",
        "\n",
        "Q11.  What is method overloading in Python ?\n",
        "\n",
        "Ans--> Python doesn't support method overloading. because python have build function to take variable no or arguments (*args,**kwargs)\n",
        "\n",
        "Q12. What is method overriding in OOP?\n",
        "\n",
        "Ans--> two method have same name with same parameter is called method overriding\n",
        "it is also called runtime polymorpism\n",
        "\n",
        "Q14. Why is polymorphism important in OOP ?\n",
        "\n",
        "Ans-->Polymorphism allows objects of different classes to be treated as objects of a common superclass.\n",
        "It enables a single interface to control access to different types of objects, improving code reusability, flexibility, and maintainability.\n",
        "\n",
        "Q15. What is an abstract class in Python ?\n",
        "\n",
        "Ans--> Abstract method is a method that decleared in the base class but has no implementation. it should be overriden by subclass that inherits from abstract classs\n",
        "\n",
        "Q16. What are the advantages of OOP?\n",
        "\n",
        "Ans--> There are many advantage of oops :   \n",
        "1. Reusablity\n",
        "2. maintaniblity\n",
        "3. inheritance\n",
        "4. polymorphism\n",
        "5. Encapsulation\n",
        "6. Abstraction\n",
        "\n",
        "Q17. What is the difference between a class variable and an instance variable ?\n",
        "\n",
        "Ans--> A class variable is a variable that is shared by all objects of the class. and An instance variable is a variable that is unique to each object.\n",
        "\n",
        "Q18. What is multiple inheritance in Python?\n",
        "\n",
        "Ans--> Multiple inheritance is a feature where a subclass or child class can inherit from more then one parent class.\n",
        "\n",
        "Q19. Explain the purpose of ‘’__str__’ and ‘__repr__’ ‘ methods in PythonH\n",
        "\n",
        "Ans--> __str__ is used to return user friendly string representation.\n",
        "__repr__ is represent developer friendly\n",
        "\n",
        "Q20. What is the significance of the ‘super()’ function in Python?\n",
        "\n",
        "Ans--> Super() method in python is use to call method and access data(attributes)  from their parent class\n",
        "\n",
        "Q.21 What is the significance of the __del__ method in Python\n",
        "\n",
        "Ans-->__del__() is a special method called a destructor.\n",
        "It is automatically called when an object is about to be destroyed, typically when it goes out of scope\n",
        "\n",
        "Q22. What is the difference between @staticmethod and @classmethod in Python ?\n",
        "\n",
        "Ans--> @classmethod - class method is method that bound to the class variable. it use cls as a first parameter and it can access and modify the class level data it use @classmethod decoretor.\n",
        "@staticmethod- static method is a method doesn't take first parameter as cls or self it behaves like a general function in a class namespace it use @staticmethod decorator\n",
        "\n",
        "Q24. What is method chaining in Python OOP?\n",
        "\n",
        "Ans-->Method chaining is a programming technique where multiple methods are called in a single line, one after the other, using the dot (.) operator.\n",
        "\n",
        "Q25. What is the purpose of the __call__ method in Python ?\n",
        "\n",
        "Ans-->The __call__() method allows an instance of a class to be called like a function."
      ],
      "metadata": {
        "id": "A2Q9YozXLv3p"
      }
    },
    {
      "cell_type": "code",
      "source": [
        "# Create a parent class Animal with a method speak() that prints a generic message. Create a child class Dog\n",
        "# that overrides the speak() method to print \"Bark!\".\n",
        "\n",
        "class Animal:\n",
        "    def speak(self):\n",
        "        print(\"This is animal class\")\n",
        "\n",
        "class Dog(Animal):\n",
        "    def speak(self):\n",
        "        print(\"Bark!\")\n",
        "\n",
        "obj=Dog()\n",
        "obj.speak()"
      ],
      "metadata": {
        "colab": {
          "base_uri": "https://localhost:8080/"
        },
        "id": "S8KFREMbZP1h",
        "outputId": "0d7b067d-9f6b-474c-c6e4-aa79c526ed13"
      },
      "execution_count": null,
      "outputs": [
        {
          "output_type": "stream",
          "name": "stdout",
          "text": [
            "Bark!\n"
          ]
        }
      ]
    },
    {
      "cell_type": "code",
      "source": [
        "# Write a program to create an abstract class Shape with a method area(). Derive classes Circle and Rectangle\n",
        "# from it and implement the area() method in both\n",
        "from abc import ABC, abstractmethod\n",
        "import math\n",
        "\n",
        "class shape(ABC):\n",
        "    @abstractmethod\n",
        "    def area(self):\n",
        "        pass\n",
        "\n",
        "class cirle(shape):\n",
        "    def __init__(self,radius):\n",
        "        self.radius = radius\n",
        "    def area(self):\n",
        "        area = math.pi*(self.radius**2)\n",
        "        print(\"area of circle is: \",area)\n",
        "\n",
        "class Rectangle(shape):\n",
        "    def __init__(self,length,breath):\n",
        "        self.length=length\n",
        "        self.breath=breath\n",
        "\n",
        "    def area(self):\n",
        "        print(\"Area of rectangle : \",self.length*self.breath)\n",
        "\n",
        "obj=Rectangle(10,20)\n",
        "obj.area()\n",
        "\n",
        "\n"
      ],
      "metadata": {
        "colab": {
          "base_uri": "https://localhost:8080/"
        },
        "id": "QpwslBFWZk3u",
        "outputId": "8fb40d63-0c21-4d83-ba69-329d04efbb61"
      },
      "execution_count": null,
      "outputs": [
        {
          "output_type": "stream",
          "name": "stdout",
          "text": [
            "Area of rectangle :  200\n"
          ]
        }
      ]
    },
    {
      "cell_type": "code",
      "source": [
        "\n",
        "#  Implement a multi-level inheritance scenario where a class Vehicle has an attribute type. Derive a class Car\n",
        "# and further derive a class ElectricCar that adds a battery attribute.\n",
        "\n",
        "class vehicle:\n",
        "    def __int__(self, type):\n",
        "        self.type = type\n",
        "\n",
        "    def display_vehicle(self):\n",
        "        print(f\"Vehicle type : {self.type}\")\n",
        "\n",
        "class car(vehicle):\n",
        "    def __init__(self,type):\n",
        "        super().__int__(type)\n",
        "    def display_car(self):\n",
        "        print(f\"This is inside car class\")\n",
        "\n",
        "class Electriccar(car):\n",
        "    def __init__(self,battery, type):\n",
        "        super().__init__(type)\n",
        "        self.battery = battery\n",
        "\n",
        "    def display_ele(self):\n",
        "        print(f\"Battery capacity : {self.battery} Kwh\")\n",
        "\n",
        "obj=Electriccar(100,\"Tesla\")\n",
        "obj.display_vehicle()\n",
        "obj.display_car()\n",
        "obj.display_ele()"
      ],
      "metadata": {
        "colab": {
          "base_uri": "https://localhost:8080/"
        },
        "id": "P_J6YRnWkm5L",
        "outputId": "9b3dabcb-ed77-42d5-a2b1-ece8be452125"
      },
      "execution_count": null,
      "outputs": [
        {
          "output_type": "stream",
          "name": "stdout",
          "text": [
            "Vehicle type : Tesla\n",
            "This is inside car class\n",
            "Battery capacity : 100 Kwh\n"
          ]
        }
      ]
    },
    {
      "cell_type": "code",
      "source": [
        "# Demonstrate polymorphism by creating a base class Bird with a method fly(). Create two derived classes\n",
        "# Sparrow and Penguin that override the fly() method.\n",
        "class Bird:\n",
        "    def fly(self):\n",
        "        print(\"Bird is flying\")\n",
        "\n",
        "class Sparrow(Bird):\n",
        "    def fly(self):\n",
        "        print(\"Sparrow is flying....\")\n",
        "\n",
        "class Penguin(Bird):\n",
        "    def fly(self):\n",
        "        print(\"Penguin is flying......\")\n",
        "ob=Sparrow()\n",
        "ob.fly()\n",
        "obj=Penguin()\n",
        "obj.fly()"
      ],
      "metadata": {
        "id": "Tvn_WddJgByb"
      },
      "execution_count": null,
      "outputs": []
    },
    {
      "cell_type": "code",
      "source": [
        "# Q5. Write a program to demonstrate encapsulation by creating a class BankAccount with private attributes\n",
        "# balance and methods to deposit, withdraw, and check balance.\n",
        "\n",
        "class BankBalance:\n",
        "    def __init__(self,balance):\n",
        "        self.__balance = balance\n",
        "\n",
        "    def deposit(self,amount):\n",
        "        self.__balance+=amount\n",
        "        print(f\"Amount Deposited {amount}\")\n",
        "    def withdraw(self,amount):\n",
        "        self.__balance-=amount\n",
        "        print(f\"cash withdraw rs: {amount}\")\n",
        "\n",
        "    def checkbalance(self):\n",
        "        print(f\"Available Balance: {self.__balance}\")\n",
        "\n",
        "\n",
        "obj=BankBalance(1000)\n",
        "obj.deposit(500)\n",
        "obj.checkbalance()\n",
        "print(obj._BankBalance__balance) # Directly accessing private attributes"
      ],
      "metadata": {
        "colab": {
          "base_uri": "https://localhost:8080/"
        },
        "id": "y58ZKFIngCHe",
        "outputId": "6c7aca85-ffba-413d-bb01-3d9b5045e13b"
      },
      "execution_count": null,
      "outputs": [
        {
          "output_type": "stream",
          "name": "stdout",
          "text": [
            "Amount Deposited 500\n",
            "Available Balance: 1500\n",
            "1500\n"
          ]
        }
      ]
    },
    {
      "cell_type": "code",
      "source": [
        "# Demonstrate runtime polymorphism using a method play() in a base class Instrument. Derive classes Guitar\n",
        "# and Piano that implement their own version of play().\n",
        "\n",
        "class Instrument:\n",
        "    def __init__(self):\n",
        "        pass\n",
        "    def play(self):\n",
        "        print(\"Instrument is Playing.......\")\n",
        "\n",
        "class Guitar(Instrument):\n",
        "    def play(self):\n",
        "        print(\"Guiter is playing..........\")\n",
        "\n",
        "class Piano(Instrument):\n",
        "    def play(self):\n",
        "        print(\"Piano is playing.....\")\n",
        "\n",
        "def play_music(obj:Instrument):\n",
        "    obj.play()\n",
        "\n",
        "l=[Guitar(),Piano()]\n",
        "for i in l:\n",
        "    play_music(i)\n"
      ],
      "metadata": {
        "id": "RBlT0F1mrhdT"
      },
      "execution_count": null,
      "outputs": []
    },
    {
      "cell_type": "code",
      "source": [
        "#Q7 Create a class MathOperations with a class method add_numbers() to add two numbers and a static\n",
        "# method subtract_numbers() to subtract two numbers.\n",
        "\n",
        "class MathOperations:\n",
        "    @classmethod\n",
        "    def add_number(cls,a,b):\n",
        "        print(\"sum of number\",a+b)\n",
        "\n",
        "    @staticmethod\n",
        "    def subtract_number(a,b):\n",
        "        print(\"subtracted number is :\",a-b)\n",
        "\n",
        "obj=MathOperations()\n",
        "obj.add_number(10,20)\n",
        "obj.subtract_number(20,10)"
      ],
      "metadata": {
        "id": "J6F4dnxWrhgq"
      },
      "execution_count": null,
      "outputs": []
    },
    {
      "cell_type": "code",
      "source": [
        "#Q8 Implement a class Person with a class method to count the total number of persons created.\n",
        "class person:\n",
        "    count=0\n",
        "\n",
        "    def __init__(self):\n",
        "        person.count+=1\n",
        "\n",
        "    @classmethod\n",
        "    def total_person(cls):\n",
        "        print(f\"Total person : {cls.count}\")\n",
        "obj=person()\n",
        "obj1=person()\n",
        "print(person.total_person())"
      ],
      "metadata": {
        "id": "c6nuKYHdVYTY"
      },
      "execution_count": null,
      "outputs": []
    },
    {
      "cell_type": "code",
      "source": [
        "#Q9 Write a class Fraction with attributes numerator and denominator. Override the str method to display the\n",
        "# fraction as \"numerator/denominator\".\n",
        "class Friction:\n",
        "    def __init__(self,numerator,denominator):\n",
        "        self.numerator=numerator\n",
        "        self.denominator=denominator\n",
        "\n",
        "    def __str__(self):\n",
        "        return (f\"{self.numerator}/{self.denominator}\")\n",
        "\n",
        "obj=Friction(3,4)\n",
        "print(obj)\n"
      ],
      "metadata": {
        "id": "7CrET4pSVYi_"
      },
      "execution_count": null,
      "outputs": []
    },
    {
      "cell_type": "code",
      "source": [
        "#Q11 Create a class Person with attributes name and age. Add a method greet() that prints \"Hello, my name is\n",
        "# {name} and I am {age} years old.\"\n",
        "\n",
        "class person:\n",
        "    def __init__(self,name,age):\n",
        "        self.name = name\n",
        "        self.age = age\n",
        "\n",
        "    def greet(self):\n",
        "        print(f\"Hello, my name is {self.name} and i am {self.age} years old\")\n",
        "\n",
        "p=person(\"Rehan\",25)\n",
        "p.greet()"
      ],
      "metadata": {
        "colab": {
          "base_uri": "https://localhost:8080/"
        },
        "id": "HPQrqRSohF00",
        "outputId": "4f08f567-d6c2-4be5-8f7a-3c5317a9336a"
      },
      "execution_count": null,
      "outputs": [
        {
          "output_type": "stream",
          "name": "stdout",
          "text": [
            "Hello, my name is Rehan and i am 25 years old\n"
          ]
        }
      ]
    },
    {
      "cell_type": "code",
      "source": [
        "#  Implement a class Student with attributes name and grades. Create a method average_grade() to compute\n",
        "# the average of the grades.\n",
        "class Student:\n",
        "    def __init__(self, name, grade):\n",
        "        self.name=name\n",
        "        self.grade=grade\n",
        "\n",
        "    def avg_grade(self):\n",
        "        avg=sum(self.grade)/len(self.grade)\n",
        "        return avg\n",
        "\n",
        "obj=Student(\"Rehan\",[90,87,98,96,85])\n",
        "print(f\"The average grade of {obj.name} is : {obj.avg_grade()}\")"
      ],
      "metadata": {
        "id": "EHYl_3MdhF25"
      },
      "execution_count": null,
      "outputs": []
    },
    {
      "cell_type": "code",
      "source": [
        "# Create a class Rectangle with methods set_dimensions() to set the dimensions and area() to calculate the area.\n",
        "class Rectangle:\n",
        "    def set_dimension(self,length,breath):\n",
        "        self.length=length\n",
        "        self.breath=breath\n",
        "\n",
        "    def Area(self):\n",
        "        return self.length * self.breath\n",
        "\n",
        "obj=Rectangle()\n",
        "obj.set_dimension(10,20)\n",
        "print(f\"The area of rectangle is : {obj.Area()}\")"
      ],
      "metadata": {
        "colab": {
          "base_uri": "https://localhost:8080/"
        },
        "id": "NCorCePZhF56",
        "outputId": "a75277be-b6fa-4eae-96a8-e9cc671180ff"
      },
      "execution_count": null,
      "outputs": [
        {
          "output_type": "stream",
          "name": "stdout",
          "text": [
            "The area of rectangle is : 200\n"
          ]
        }
      ]
    },
    {
      "cell_type": "code",
      "source": [
        "#Q14 Create a class Employee with a method calculate_salary() that computes the salary based on hours worked\n",
        "# and hourly rate. Create a derived class Manager that adds a bonus to the salary.\n",
        "class Employee:\n",
        "    def __init__(self,rate,hour):\n",
        "        self.rate=rate\n",
        "        self.hour=hour\n",
        "    def calculate_salary(self):\n",
        "        return self.rate * self.hour\n",
        "\n",
        "class Manager(Employee):\n",
        "    def __init__(self,rate,hour,bonus):\n",
        "        super().__init__(rate,hour)\n",
        "        self.bonus=bonus\n",
        "\n",
        "    def display(self):\n",
        "        b=(self.bonus/100)*self.rate*self.hour\n",
        "        print(f\"The salary of employee is : {self.calculate_salary()+b}\")\n",
        "obj=Manager(200,45,10)\n",
        "obj.display()\n",
        "\n",
        "\n"
      ],
      "metadata": {
        "id": "YgrAi5oTRcO5"
      },
      "execution_count": null,
      "outputs": []
    },
    {
      "cell_type": "code",
      "source": [
        "#Q15 Create a class Product with attributes name, price, and quantity. Implement a method total_price() that\n",
        "# calculates the total price of the product\n",
        "\n",
        "class Product:\n",
        "    def __init__(self,name,price,quantity):\n",
        "        self.name=name\n",
        "        self.price=price\n",
        "        self.quantity=quantity\n",
        "\n",
        "    def total_price(self):\n",
        "        total=self.price*self.quantity\n",
        "        print(f\"The total price of {self.name} is : {total}\")\n",
        "\n",
        "obj=Product(\"Rehan\",100,5)\n",
        "obj.total_price()\n"
      ],
      "metadata": {
        "id": "wzCZNH7rRcci"
      },
      "execution_count": null,
      "outputs": []
    },
    {
      "cell_type": "code",
      "source": [
        "#Q16 Create a class Animal with an abstract method sound(). Create two derived classes Cow and Sheep that\n",
        "# implement the sound() method.\n",
        "from abc import ABC, abstractmethod\n",
        "class Animal(ABC):\n",
        "    @abstractmethod\n",
        "    def sound(self):\n",
        "        pass\n",
        "\n",
        "class Cow(Animal):\n",
        "    def sound(self):\n",
        "        print(\"Cow is shouting......\")\n",
        "class Sheep(Animal):\n",
        "    def sound(self):\n",
        "        print(\"Sheep is shouting.....\")\n",
        "\n",
        "obj1=Cow()\n",
        "obj1.sound()\n",
        "obj2=Sheep()\n",
        "obj2.sound()\n"
      ],
      "metadata": {
        "id": "6jG4dv8YRcnx"
      },
      "execution_count": null,
      "outputs": []
    },
    {
      "cell_type": "code",
      "source": [
        "#Q17 Create a class Book with attributes title, author, and year_published. Add a method get_book_info() that\n",
        "# returns a formatted string with the book's details\n",
        "\n",
        "class Book:\n",
        "    def __init__(self,title,author,year_published):\n",
        "        self.title=title\n",
        "        self.author=author\n",
        "        self.year_published=year_published\n",
        "\n",
        "    def get_book_info(self):\n",
        "        return f\"Book is written by: {self.author} with Title: {self.title} in year {self.year_published}\"\n",
        "\n",
        "obj=Book(\"Doglapan\",\"Ashneer Grover\",2021)\n",
        "print(obj.get_book_info())"
      ],
      "metadata": {
        "id": "BfmM8jjuej9m"
      },
      "execution_count": null,
      "outputs": []
    },
    {
      "cell_type": "code",
      "source": [
        "#Q18 Create a class House with attributes address and price. Create a derived class Mansion that adds an\n",
        "# attribute number_of_rooms\n",
        "class House:\n",
        "    def __init__(self,address,price):\n",
        "        self.address = address\n",
        "        self.price = price\n",
        "\n",
        "    def display(self):\n",
        "        print(f\"address is: {self.address} \\nPrice is: {self.price}\")\n",
        "\n",
        "class Home(House):\n",
        "    def __init__(self,no_of_rooms,address,price):\n",
        "        super().__init__(address,price)\n",
        "        self.no_of_rooms = no_of_rooms\n",
        "    def info(self):\n",
        "        self.display()\n",
        "        print(f\"No of rooms : \",self.no_of_rooms)\n",
        "\n",
        "obj=Home(5,\"Ashok nagar\",200000)\n",
        "obj.info()"
      ],
      "metadata": {
        "id": "09dvG4RFemzz",
        "outputId": "752f6313-1e57-49f5-adf1-447e511515f3",
        "colab": {
          "base_uri": "https://localhost:8080/"
        }
      },
      "execution_count": null,
      "outputs": [
        {
          "output_type": "stream",
          "name": "stdout",
          "text": [
            "address is: Ashok nagar \n",
            "Price is: 200000\n",
            "No of rooms :  5\n"
          ]
        }
      ]
    }
  ]
}