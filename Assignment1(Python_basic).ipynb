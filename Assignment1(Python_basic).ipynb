{
  "nbformat": 4,
  "nbformat_minor": 0,
  "metadata": {
    "colab": {
      "provenance": []
    },
    "kernelspec": {
      "name": "python3",
      "display_name": "Python 3"
    },
    "language_info": {
      "name": "python"
    }
  },
  "cells": [
    {
      "cell_type": "markdown",
      "source": [
        "                     **Python Basics Questions**\n",
        "\n",
        "Q1. What is Python, and why is it popular ?\n",
        "\n",
        "ans--> Python is a high-level, interpreted, general purpose programming language known for simplicity, readability and versatility\n",
        "\n",
        "Here are some key features of python:\n",
        "1. Easy to use and learn ()\n",
        "2. interpreted language (source code will execute directly line by line instead of compile into machine code )\n",
        "3. Dynamic typed (no need to define the type of data python will understand automaticaly)\n",
        "4. it has rich libreries(python has huge no of libraries )\n",
        "5. it supports cross-platform(windows, linux , macOS etc)\n",
        "6. Object oriented programming (python treatevery thing as an object) etc.\n",
        "\n",
        "Q2.  What is an interpreter in Python ?\n",
        "\n",
        "Ans-->Python interpreter execute the source code directly line by line instead of compile into machine code\n",
        "\n",
        "Q3. What are pre-defined keywords in Python ?\n",
        "\n",
        "Ans--> Pre-defined keywords in python has special meaning and you cannot use them as variable name, function name or identifiers.\n",
        "\n",
        "Q4. Can keywords be used as variable names ?\n",
        "\n",
        "Ans--> NO, Every Keywords has some special meaning you cannot use them as variable name (Variable name can starts with alphbet and underscore _ only)\n",
        "\n",
        "Q5. What is mutability in Python ?\n",
        "\n",
        "Ans--> Mutability means you can change the value after creation exp- list (list is mutable that can be change after creation but in Tuple you cannot change the value after creation it will throw an error)\n",
        "\n",
        "Q6.Why are lists mutable, but tuples are immutable ?\n",
        "\n",
        "Ans--> list are mutable beacause :- list are designed to store and modify data you can perform operation like adding,removing and updating the data\n",
        "\n",
        "and Tuple is immutable beacause:- Tuple is designed to work with fixed data where no changes are expected.\n",
        "\n",
        "Q.7 What is the difference between “==” and “is” operators in Python ?\n",
        "\n",
        "Ans--> == is a comparison Operator which is use to compare the value of two variable and \"is\" is a identity operator it will return true when two variable are refering to the same mamory location\n",
        "\n",
        "Q.8 What are logical operators in Python ?\n",
        "\n",
        "Ans--> logical operator are use to perform boolean logic operations combining multiple conditions and returning true or False based on the logic applied.\n",
        "\n",
        "and = Return true if both condition will be true.\n",
        "or = return true if atleast one condition will be true.\n",
        "not = reverse the result true become false\n",
        "\n",
        "Q.9 What is type casting in Python ?\n",
        "\n",
        "Ans--> Type casting is a process in python to convert one data type into another data type there are two way to do this:-\n",
        "1. Implicit type casting\n",
        "2. Explicit type casting\n",
        "\n",
        "Q.10 What is the difference between implicit and explicit type casting ?\n",
        "\n",
        "Ans--> Implicit :- python will automatically convert lower data type into higher data type to avoid data losses.\n",
        "explicit :- User/Developer  will convert nammualy or forcefully one data type into another data type using built-in functions . like int(),float(), str,tuple dict\n",
        "\n",
        "Q.11 What is the purpose of conditional statements in Python ?\n",
        "\n",
        "Ans--> Conditional statement in python are use to make decision in your program it allow your code to take different actions based on different conditions\n",
        "purpose:-\n",
        "To control the flow of code\n",
        "to execute certain block of code only when specific conditons is met.\n",
        "\n",
        "Q.12 How does the elif statement work ?\n",
        "\n",
        "Ans--> elif (short of else if ) statement it will come after if block, or before else block and check the condition if true it will excute the block of code\n",
        "\n",
        "Q.13 What is the difference between for and while loops ?\n",
        "\n",
        "Ans--> for loop is use to iterate over the number of sequence(like list, string,range)\n",
        "and whilw loop is a machenism to perform a specific task until a particualer condition will be true.\n",
        "\n",
        "Q.14 Describe a scenario where a while loop is more suitable than a for loop?\n",
        "\n",
        "Ans--> while loop is better when you dont know how many times to loop for example looping until condition is met(monitoring, login, games)"
      ],
      "metadata": {
        "id": "v9hx_MGkM9f7"
      }
    },
    {
      "cell_type": "code",
      "source": [
        "#Q1\n",
        "print(\"Hello, World!\")"
      ],
      "metadata": {
        "colab": {
          "base_uri": "https://localhost:8080/"
        },
        "id": "KP9l-xJenDuu",
        "outputId": "c4f23d82-6121-4516-ac2f-2846b1584dbb"
      },
      "execution_count": null,
      "outputs": [
        {
          "output_type": "stream",
          "name": "stdout",
          "text": [
            "Hello, World!\n"
          ]
        }
      ]
    },
    {
      "cell_type": "code",
      "source": [
        "#Q2\n",
        "name=input(\"Enter your name : \")\n",
        "age=int(input(\"Enter your age \"))\n",
        "print(\"Name :\",name ,\"and age:\",age)"
      ],
      "metadata": {
        "colab": {
          "base_uri": "https://localhost:8080/"
        },
        "id": "o1diTsEenYEJ",
        "outputId": "db13045a-df4e-46ed-eb76-5fdfdb3fc2bf"
      },
      "execution_count": null,
      "outputs": [
        {
          "output_type": "stream",
          "name": "stdout",
          "text": [
            "Enter your name : Rehan\n",
            "Enter your age 25\n",
            "Name : Rehan and age: 25\n"
          ]
        }
      ]
    },
    {
      "cell_type": "code",
      "source": [
        "#Q3\n",
        "import keyword\n",
        "keyword=keyword.kwlist\n",
        "for key in keyword:\n",
        "    print(key)"
      ],
      "metadata": {
        "colab": {
          "base_uri": "https://localhost:8080/"
        },
        "id": "Cr5t_70DoI2j",
        "outputId": "7ea8fffd-e901-4f86-edd7-5341815898f4"
      },
      "execution_count": null,
      "outputs": [
        {
          "output_type": "stream",
          "name": "stdout",
          "text": [
            "False\n",
            "None\n",
            "True\n",
            "and\n",
            "as\n",
            "assert\n",
            "async\n",
            "await\n",
            "break\n",
            "class\n",
            "continue\n",
            "def\n",
            "del\n",
            "elif\n",
            "else\n",
            "except\n",
            "finally\n",
            "for\n",
            "from\n",
            "global\n",
            "if\n",
            "import\n",
            "in\n",
            "is\n",
            "lambda\n",
            "nonlocal\n",
            "not\n",
            "or\n",
            "pass\n",
            "raise\n",
            "return\n",
            "try\n",
            "while\n",
            "with\n",
            "yield\n"
          ]
        }
      ]
    },
    {
      "cell_type": "code",
      "source": [
        "#Q4\n",
        "key=input(\"Enter the keys: \")\n",
        "if key in keyword:\n",
        "    print(\"yes\")"
      ],
      "metadata": {
        "colab": {
          "base_uri": "https://localhost:8080/"
        },
        "id": "cO_JgRR0pAnf",
        "outputId": "1fc874b2-f095-422a-eb19-4f27120f3d91"
      },
      "execution_count": null,
      "outputs": [
        {
          "name": "stdout",
          "output_type": "stream",
          "text": [
            "Enter the keys: a\n"
          ]
        }
      ]
    },
    {
      "cell_type": "code",
      "source": [
        "#Q5\n",
        "l=[1,2,3,4,5,6,7]\n",
        "t=(1,2,3,4,5,6,7)\n",
        "l[1]=10\n",
        "print(l)"
      ],
      "metadata": {
        "colab": {
          "base_uri": "https://localhost:8080/"
        },
        "id": "wbcpTg8Ds8I-",
        "outputId": "abd8a80a-745e-4002-ad8a-489ce0d0c284"
      },
      "execution_count": null,
      "outputs": [
        {
          "output_type": "stream",
          "name": "stdout",
          "text": [
            "[1, 10, 3, 4, 5, 6, 7]\n"
          ]
        }
      ]
    },
    {
      "cell_type": "code",
      "source": [
        "t=(1,2,3,4,5,6,7)\n",
        "t[1]=10\n",
        "print(t)"
      ],
      "metadata": {
        "colab": {
          "base_uri": "https://localhost:8080/",
          "height": 176
        },
        "id": "fkCMkOtMtmKD",
        "outputId": "88132db9-696b-4279-c313-c2353e244f12"
      },
      "execution_count": null,
      "outputs": [
        {
          "output_type": "error",
          "ename": "TypeError",
          "evalue": "'tuple' object does not support item assignment",
          "traceback": [
            "\u001b[0;31m---------------------------------------------------------------------------\u001b[0m",
            "\u001b[0;31mTypeError\u001b[0m                                 Traceback (most recent call last)",
            "\u001b[0;32m<ipython-input-13-aca3dede74f0>\u001b[0m in \u001b[0;36m<cell line: 0>\u001b[0;34m()\u001b[0m\n\u001b[1;32m      1\u001b[0m \u001b[0mt\u001b[0m\u001b[0;34m=\u001b[0m\u001b[0;34m(\u001b[0m\u001b[0;36m1\u001b[0m\u001b[0;34m,\u001b[0m\u001b[0;36m2\u001b[0m\u001b[0;34m,\u001b[0m\u001b[0;36m3\u001b[0m\u001b[0;34m,\u001b[0m\u001b[0;36m4\u001b[0m\u001b[0;34m,\u001b[0m\u001b[0;36m5\u001b[0m\u001b[0;34m,\u001b[0m\u001b[0;36m6\u001b[0m\u001b[0;34m,\u001b[0m\u001b[0;36m7\u001b[0m\u001b[0;34m)\u001b[0m\u001b[0;34m\u001b[0m\u001b[0;34m\u001b[0m\u001b[0m\n\u001b[0;32m----> 2\u001b[0;31m \u001b[0mt\u001b[0m\u001b[0;34m[\u001b[0m\u001b[0;36m1\u001b[0m\u001b[0;34m]\u001b[0m\u001b[0;34m=\u001b[0m\u001b[0;36m10\u001b[0m\u001b[0;34m\u001b[0m\u001b[0;34m\u001b[0m\u001b[0m\n\u001b[0m\u001b[1;32m      3\u001b[0m \u001b[0mprint\u001b[0m\u001b[0;34m(\u001b[0m\u001b[0mt\u001b[0m\u001b[0;34m)\u001b[0m\u001b[0;34m\u001b[0m\u001b[0;34m\u001b[0m\u001b[0m\n",
            "\u001b[0;31mTypeError\u001b[0m: 'tuple' object does not support item assignment"
          ]
        }
      ]
    },
    {
      "cell_type": "code",
      "source": [
        "num1=int(input(\"Enter a number : \"))\n",
        "num2=int(input(\"Enter 2nd number : \"))\n",
        "add=num1+num2\n",
        "sub=num1-num2\n",
        "multi=num1*num2\n",
        "div=num1/num2\n",
        "mod=num1%num2\n",
        "floor=num1//num2\n",
        "\n",
        "print(add)\n",
        "print(sub)\n",
        "print(multi)\n",
        "print(div)\n",
        "print(mod)\n",
        "print(floor)"
      ],
      "metadata": {
        "colab": {
          "base_uri": "https://localhost:8080/"
        },
        "id": "OjRKS_RT5xhg",
        "outputId": "ed0c349b-f2b0-40ac-a49a-0bdd79c6827d"
      },
      "execution_count": null,
      "outputs": [
        {
          "output_type": "stream",
          "name": "stdout",
          "text": [
            "Enter a number : 10\n",
            "Enter 2nd number : 2\n",
            "12\n",
            "8\n",
            "20\n",
            "5.0\n",
            "0\n",
            "5\n"
          ]
        }
      ]
    },
    {
      "cell_type": "code",
      "source": [
        "#Logical operator and or and not\n",
        "a=10\n",
        "b=20\n",
        "#and Operator\n",
        "print(a>5 and b>5)\n",
        "print(a>5 and b>25)\n",
        "print(a>20 and b>15)\n",
        "print(a>15 and b>25)\n",
        "\n",
        "# or operator\n",
        "print(\"=========Or=======\")\n",
        "print(a>5 or b>5)\n",
        "print(a>5 or b>25)\n",
        "print(a>20 or b>15)\n",
        "print(a>15 or b>25)\n",
        "\n",
        "print(\"=======Not========\")\n",
        "print(not a)\n",
        "print(not b)\n"
      ],
      "metadata": {
        "colab": {
          "base_uri": "https://localhost:8080/"
        },
        "id": "AYJidqEE7AaL",
        "outputId": "d8104c13-1c58-4512-8e83-9465889ea0de"
      },
      "execution_count": null,
      "outputs": [
        {
          "output_type": "stream",
          "name": "stdout",
          "text": [
            "True\n",
            "False\n",
            "False\n",
            "False\n",
            "=========Or=======\n",
            "True\n",
            "True\n",
            "True\n",
            "False\n",
            "=======Not========\n",
            "False\n",
            "False\n"
          ]
        }
      ]
    },
    {
      "cell_type": "code",
      "source": [
        "a=input(\"Enter the value : \")\n",
        "#this is the example of explicit type casting\n",
        "#explicit type casting means user or developer will convert mannualy or forcefully one dataa type to another data type\n",
        "inter=int(a)\n",
        "print(inter)\n",
        "flo=float(a)\n",
        "print(flo)\n",
        "b=bool(a)\n",
        "print(b)\n",
        "\n",
        "#this is the examlple of implicit type casting\n",
        "#implicit type casting means python will automatically convert lower data type to higher data type to avoid data losses\n",
        "print(\"==================\")\n",
        "a=5\n",
        "b=10.5\n",
        "add=a+b\n",
        "print(add)\n",
        "print(type(add))"
      ],
      "metadata": {
        "colab": {
          "base_uri": "https://localhost:8080/"
        },
        "id": "VGPxwSEA-V7X",
        "outputId": "982c138e-d291-4cca-a690-0a75af88ea55"
      },
      "execution_count": null,
      "outputs": [
        {
          "output_type": "stream",
          "name": "stdout",
          "text": [
            "Enter the value : 5\n",
            "5\n",
            "5.0\n",
            "True\n",
            "==================\n",
            "15.5\n",
            "<class 'float'>\n"
          ]
        }
      ]
    },
    {
      "cell_type": "code",
      "source": [
        "num=int(input(\"Enter the number : \"))\n",
        "if num==0:\n",
        "    print(\"Number is zero \")\n",
        "elif(num>0):\n",
        "    print(\"given no is Positive \")\n",
        "else:\n",
        "    print(\"Given number is Negative\")"
      ],
      "metadata": {
        "colab": {
          "base_uri": "https://localhost:8080/"
        },
        "id": "35QeJMMbAEBR",
        "outputId": "37773afc-c349-4b8c-c13a-5f8a411788b5"
      },
      "execution_count": null,
      "outputs": [
        {
          "output_type": "stream",
          "name": "stdout",
          "text": [
            "Enter the number : 5\n",
            "given no is Positive \n"
          ]
        }
      ]
    },
    {
      "cell_type": "code",
      "source": [
        "for num in range(1,11):\n",
        "    print(num)"
      ],
      "metadata": {
        "colab": {
          "base_uri": "https://localhost:8080/"
        },
        "id": "6sdT8rl1AipX",
        "outputId": "128b716e-b9d9-4104-9ae3-97e7e5020d4e"
      },
      "execution_count": null,
      "outputs": [
        {
          "output_type": "stream",
          "name": "stdout",
          "text": [
            "1\n",
            "2\n",
            "3\n",
            "4\n",
            "5\n",
            "6\n",
            "7\n",
            "8\n",
            "9\n",
            "10\n"
          ]
        }
      ]
    },
    {
      "cell_type": "code",
      "source": [
        "#Q13\n",
        "sum=0\n",
        "for num in range(1,51):\n",
        "    if num%2==0:\n",
        "        sum+=num\n",
        "        print(num)\n",
        "print(\"Sum of even no is :\",sum)"
      ],
      "metadata": {
        "colab": {
          "base_uri": "https://localhost:8080/"
        },
        "id": "z657v2IFAtee",
        "outputId": "2d49ff99-8de4-4308-a183-185050d454b7"
      },
      "execution_count": null,
      "outputs": [
        {
          "output_type": "stream",
          "name": "stdout",
          "text": [
            "2\n",
            "4\n",
            "6\n",
            "8\n",
            "10\n",
            "12\n",
            "14\n",
            "16\n",
            "18\n",
            "20\n",
            "22\n",
            "24\n",
            "26\n",
            "28\n",
            "30\n",
            "32\n",
            "34\n",
            "36\n",
            "38\n",
            "40\n",
            "42\n",
            "44\n",
            "46\n",
            "48\n",
            "50\n",
            "Sum of even no is : 650\n"
          ]
        }
      ]
    },
    {
      "cell_type": "code",
      "source": [
        "#Q14\n",
        "str=\"Hello World\"\n",
        "rev_str=\"\"\n",
        "index=len(str)-1\n",
        "while index >=0:\n",
        "    rev_str+=str[index]\n",
        "    index-=1\n",
        "\n",
        "print(rev_str)"
      ],
      "metadata": {
        "colab": {
          "base_uri": "https://localhost:8080/"
        },
        "id": "y06COVsBBaS6",
        "outputId": "ea6ecd52-2338-48bc-e5ed-522952c503fd"
      },
      "execution_count": null,
      "outputs": [
        {
          "output_type": "stream",
          "name": "stdout",
          "text": [
            "dlroW olleH\n"
          ]
        }
      ]
    },
    {
      "cell_type": "code",
      "source": [
        "#Q15\n",
        "fact=1\n",
        "num=int(input(\"Enter the value : \"))\n",
        "while num>0:\n",
        "    fact=fact*num\n",
        "    num-=1\n",
        "print(fact)"
      ],
      "metadata": {
        "colab": {
          "base_uri": "https://localhost:8080/"
        },
        "id": "DEfrg9EAvGal",
        "outputId": "bda586ae-fbfc-4ac9-bcc1-4abb1fb22d44"
      },
      "execution_count": null,
      "outputs": [
        {
          "output_type": "stream",
          "name": "stdout",
          "text": [
            "Enter the value : 7\n",
            "5040\n"
          ]
        }
      ]
    }
  ]
}